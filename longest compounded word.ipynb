{
  "nbformat": 4,
  "nbformat_minor": 0,
  "metadata": {
    "colab": {
      "provenance": [],
      "authorship_tag": "ABX9TyMieIqy/ePBCfUvXRjcKX9c",
      "include_colab_link": true
    },
    "kernelspec": {
      "name": "python3",
      "display_name": "Python 3"
    },
    "language_info": {
      "name": "python"
    }
  },
  "cells": [
    {
      "cell_type": "markdown",
      "metadata": {
        "id": "view-in-github",
        "colab_type": "text"
      },
      "source": [
        "<a href=\"https://colab.research.google.com/github/iamyatinsinghal/YATIN-SINGHAL-CODE/blob/main/longest%20compounded%20word.ipynb\" target=\"_parent\"><img src=\"https://colab.research.google.com/assets/colab-badge.svg\" alt=\"Open In Colab\"/></a>"
      ]
    },
    {
      "cell_type": "code",
      "execution_count": 3,
      "metadata": {
        "id": "GBImaO5J8VzV"
      },
      "outputs": [],
      "source": [
        "import time\n",
        "\n",
        "def is_compound(word, word_set):\n",
        "    if word in word_set:\n",
        "        return True\n",
        "\n",
        "    for i in range(1, len(word)):\n",
        "        prefix = word[:i]\n",
        "        suffix = word[i:]\n",
        "        if prefix in word_set and is_compound(suffix, word_set):\n",
        "            return True\n",
        "\n",
        "    return False\n",
        "\n",
        "def find_longest_compounded_words(file_path):\n",
        "    start_time = time.time()\n",
        "\n",
        "    with open(file_path, 'r') as file:\n",
        "        words = [line.strip() for line in file]\n",
        "\n",
        "    word_set = set(words)\n",
        "    words.sort(key=lambda x: (-len(x), x))\n",
        "\n",
        "    longest_word = ''\n",
        "    second_longest_word = ''\n",
        "\n",
        "    for word in words:\n",
        "        word_set.remove(word)\n",
        "        if is_compound(word, word_set):\n",
        "            if not longest_word:\n",
        "                longest_word = word\n",
        "            else:\n",
        "                second_longest_word = word\n",
        "                break\n",
        "\n",
        "    end_time = time.time()\n",
        "\n",
        "    return longest_word, second_longest_word, int((end_time - start_time) * 1000)\n",
        "\n",
        "def process_file(file_path):\n",
        "    longest, second_longest, time_taken = find_longest_compounded_words(file_path)\n",
        "    print(f\"Longest Compound Word for {file_path}: {longest}\")\n",
        "    print(f\"Second Longest Compound Word for {file_path}: {second_longest}\")\n",
        "    print(f\"Time taken to process file {file_path} {time_taken} milli seconds\")\n",
        "\n",
        "if __name__ == '__main':\n",
        "    input_files = ['1.txt', '2.txt']\n",
        "\n",
        "    for input_file in input_files:\n",
        "        process_file(input_file)\n"
      ]
    },
    {
      "cell_type": "code",
      "source": [],
      "metadata": {
        "id": "svx-gQ6m-DR0"
      },
      "execution_count": null,
      "outputs": []
    }
  ]
}